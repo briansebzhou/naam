{
 "cells": [
  {
   "cell_type": "markdown",
   "id": "50c0a9e1-9903-47c4-8c1f-543dce470947",
   "metadata": {},
   "source": [
    "# Importing libraries and defining helper functions"
   ]
  },
  {
   "cell_type": "code",
   "execution_count": 1,
   "id": "aa5686ff-0cd8-431b-8983-7ebadc24eab3",
   "metadata": {},
   "outputs": [
    {
     "name": "stdout",
     "output_type": "stream",
     "text": [
      "Using GPU: NVIDIA GeForce GTX 1080 Ti\n"
     ]
    }
   ],
   "source": [
    "import numpy as np\n",
    "import matplotlib.pyplot as plt\n",
    "import torch\n",
    "from tqdm.notebook import tqdm\n",
    "\n",
    "\n",
    "# Step 1: Check for GPU availability\n",
    "if torch.cuda.is_available():\n",
    "    device = torch.device(\"cuda\")  # Use the first CUDA device\n",
    "    print(\"Using GPU:\", torch.cuda.get_device_name(0))\n",
    "else:\n",
    "    device = torch.device(\"cpu\")  # Fallback to CPU if GPU is not available\n",
    "    print(\"GPU is not available, using CPU instead.\")\n",
    "\n",
    "\n",
    "# function to \"corrupt\" memory vectors, for use as initial condition to system\n",
    "def generate_corruption_vector(length, corruption,device):\n",
    "    \"\"\"\n",
    "    Generates a vector of 1s and -1s based on a specified corruption probability.\n",
    "\n",
    "    Parameters:\n",
    "    - length: The length of the output vector.\n",
    "    - corruption: The probability of an element being -1 (p(-1)).\n",
    "\n",
    "    Returns:\n",
    "    - A torch.Tensor of shape (length,) with elements set to 1 with probability `1 - corruption` and to -1 with probability `corruption`.\n",
    "    \"\"\"\n",
    "    # Generate a random vector with values between 0 and 1\n",
    "    random_vector = torch.rand(length,device = device)\n",
    "\n",
    "    # Elements <= 1 - corruption are set to 1, others are set to -1\n",
    "    # This inverts the condition to meet the specified probabilities\n",
    "    output_vector = torch.where(random_vector <= (1 - corruption), torch.tensor(1), torch.tensor(-1))\n",
    "\n",
    "    return output_vector\n"
   ]
  },
  {
   "cell_type": "markdown",
   "id": "92897237-5342-4b08-9a55-c9709690b64c",
   "metadata": {},
   "source": [
    "# Forward simulation of the neuron-astrocyte associative memory network"
   ]
  },
  {
   "cell_type": "code",
   "execution_count": 2,
   "id": "a1130102-91c8-4f55-8da4-efefa54b3988",
   "metadata": {},
   "outputs": [
    {
     "data": {
      "application/vnd.jupyter.widget-view+json": {
       "model_id": "ff2231bac1e54ef485ee96ff3828e91e",
       "version_major": 2,
       "version_minor": 0
      },
      "text/plain": [
       "  0%|          | 0/1000 [00:00<?, ?it/s]"
      ]
     },
     "metadata": {},
     "output_type": "display_data"
    },
    {
     "name": "stdout",
     "output_type": "stream",
     "text": [
      "Initial L2 distance of neural state to memory 2 is 14.966629981994629\n",
      "Final L2 distance of neural state to memory 2 is 0.0\n"
     ]
    }
   ],
   "source": [
    "# Parameters\n",
    "N = 500  # Number of neurons\n",
    "K = 10  # Number of memories\n",
    "NUM_STEPS = 1000  # Number of Euler steps for integration\n",
    "dt = 0.05  # Euler step size\n",
    "beta = 5  # Gain of nonlinearity\n",
    "corruption_level = 0.1  # Controls the degree of corruption of the initial state\n",
    "\n",
    "# Generate random binary memories\n",
    "etas = 2 * torch.randint(2, (N, K), device=device).float() - 1\n",
    "\n",
    "# Select which memory to initialize dynamics near\n",
    "memory_to_seed_from = 2\n",
    "mem = etas[:, memory_to_seed_from]\n",
    "\n",
    "# Initialize all dynamic variables near the desired fixed point\n",
    "x0 = mem * generate_corruption_vector(N, corruption_level, device)\n",
    "\n",
    "# Initial states calculations\n",
    "psi_0 = -torch.outer(torch.tanh(beta * x0), torch.tanh(beta * x0))\n",
    "P0 = (1 / beta) * torch.atanh(psi_0)\n",
    "S0 = (1 / beta) * torch.atanh(-(1 / N ** 3) * torch.einsum('im,jm,km,lm,kl->ij', etas, etas, etas, etas, psi_0))\n",
    "\n",
    "# Initializing variables for dynamics\n",
    "x, S, P = x0.clone(), S0.clone(), P0.clone()\n",
    "\n",
    "# Euler integration of dynamics\n",
    "for _ in tqdm(range(NUM_STEPS)):\n",
    "    h = torch.tanh(beta * x)\n",
    "    g = torch.tanh(beta * S)\n",
    "    psi = torch.tanh(beta * P)\n",
    "\n",
    "    x += dt * (-x + S @ h)\n",
    "    S += dt * (-S + torch.outer(h, h) + psi)\n",
    "    P += dt * (-P + (1 / N ** 3) * torch.einsum('im,jm,km,lm,kl->ij', etas, etas, etas, etas, psi) + g)\n",
    "\n",
    "# Check whether dynamics converged to the correct attractor\n",
    "initial_distance = torch.norm(torch.sign(x0) - mem)\n",
    "final_distance = torch.norm(torch.sign(h) - mem)\n",
    "\n",
    "print(f'Initial L2 distance of neural state to memory {memory_to_seed_from} is {initial_distance}')\n",
    "print(f'Final L2 distance of neural state to memory {memory_to_seed_from} is {final_distance}')\n"
   ]
  }
 ],
 "metadata": {
  "kernelspec": {
   "display_name": "Python 3 (ipykernel)",
   "language": "python",
   "name": "python3"
  },
  "language_info": {
   "codemirror_mode": {
    "name": "ipython",
    "version": 3
   },
   "file_extension": ".py",
   "mimetype": "text/x-python",
   "name": "python",
   "nbconvert_exporter": "python",
   "pygments_lexer": "ipython3",
   "version": "3.10.9"
  }
 },
 "nbformat": 4,
 "nbformat_minor": 5
}
